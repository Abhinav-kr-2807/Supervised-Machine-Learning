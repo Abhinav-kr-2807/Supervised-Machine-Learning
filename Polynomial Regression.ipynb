{
 "cells": [
  {
   "cell_type": "markdown",
   "metadata": {},
   "source": [
    "### Name- Abhinav Kumar"
   ]
  },
  {
   "cell_type": "markdown",
   "metadata": {},
   "source": [
    "### PRN- 21070126006"
   ]
  },
  {
   "cell_type": "markdown",
   "metadata": {},
   "source": [
    "### Branch- AIMl_A1"
   ]
  },
  {
   "cell_type": "markdown",
   "metadata": {
    "id": "FAxCIXVv3i3u"
   },
   "source": [
    "**Polynomial Regression**\n",
    "\n",
    "Linear regression requires the relation between the dependent variable and the independent variable to be linear. What if the distribution of the data was more complex ?\n",
    "\n",
    "To understand the need for polynomial regression, let’s generate some random dataset first."
   ]
  },
  {
   "cell_type": "code",
   "execution_count": 1,
   "metadata": {
    "colab": {
     "base_uri": "https://localhost:8080/",
     "height": 265
    },
    "id": "e--gTis33dp_",
    "outputId": "e135db90-ea42-43b2-df78-bfbab2c67120"
   },
   "outputs": [
    {
     "data": {
      "image/png": "[encoded data removed]",
      "text/plain": [
       "<Figure size 432x288 with 1 Axes>"
      ]
     },
     "metadata": {
      "needs_background": "light"
     },
     "output_type": "display_data"
    }
   ],
   "source": [
    "import numpy as np\n",
    "import matplotlib.pyplot as plt\n",
    "\n",
    "np.random.seed(0)\n",
    "x = 2 - 3 * np.random.normal(0, 1, 20)\n",
    "y = x - 2 * (x ** 2) + 0.5 * (x ** 3) + np.random.normal(-3, 3, 20)\n",
    "plt.scatter(x,y, s=10)\n",
    "plt.show()"
   ]
  },
  {
   "cell_type": "markdown",
   "metadata": {
    "id": "7lcYa55J4St-"
   },
   "source": [
    "Let’s apply a linear regression model to this dataset."
   ]
  },
  {
   "cell_type": "code",
   "execution_count": 2,
   "metadata": {
    "colab": {
     "base_uri": "https://localhost:8080/",
     "height": 265
    },
    "id": "BLQbewSk4MEG",
    "outputId": "5eefd367-7118-4025-c3e5-06a257ac1bcf"
   },
   "outputs": [
    {
     "data": {
      "image/png": "[encoded data removed]",
      "text/plain": [
       "<Figure size 432x288 with 1 Axes>"
      ]
     },
     "metadata": {
      "needs_background": "light"
     },
     "output_type": "display_data"
    }
   ],
   "source": [
    "import numpy as np\n",
    "import matplotlib.pyplot as plt\n",
    "\n",
    "from sklearn.linear_model import LinearRegression\n",
    "\n",
    "np.random.seed(0)\n",
    "x = 2 - 3 * np.random.normal(0, 1, 20)\n",
    "y = x - 2 * (x ** 2) + 0.5 * (x ** 3) + np.random.normal(-3, 3, 20)\n",
    "\n",
    "# transforming the data to include another axis\n",
    "x = x[:, np.newaxis]\n",
    "y = y[:, np.newaxis]\n",
    "\n",
    "model = LinearRegression()\n",
    "model.fit(x, y)\n",
    "y_pred = model.predict(x)\n",
    "\n",
    "plt.scatter(x, y, s=10)\n",
    "plt.plot(x, y_pred, color='r')\n",
    "plt.show()\n",
    "\n",
    "#The plot of the best fit line is shown below"
   ]
  },
  {
   "cell_type": "markdown",
   "metadata": {
    "id": "KvsRTbO64rOj"
   },
   "source": [
    "We can see that the straight line is unable to capture the patterns in the data. This is an example of under-fitting. Computing the RMSE and R²-score of the linear line gives:\n",
    "\n",
    "{CAlculte The same}\n",
    "\n",
    "Your Code should generate both\n",
    "\n",
    "RMSE of linear regression is **15.908242501429998.**\n",
    "\n",
    "R2 score of linear regression is **0.6386750054827146**"
   ]
  },
  {
   "cell_type": "markdown",
   "metadata": {
    "id": "f8y-pl1R5Ha9"
   },
   "source": [
    "To overcome under-fitting, we need to increase the complexity of the model.\n",
    "\n",
    "To generate a higher order equation we can add powers of the original features as new features. The linear model,\n",
    "\n",
    "![image.png](data:image/png;base64,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)\n",
    "\n",
    "\n",
    "\n",
    "can be shifted to:\n",
    "![image.png](data:image/png;base64,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)\n",
    "\n",
    "\n",
    "This is still considered to be linear model as the coefficients/weights associated with the features are still linear. x² is only a feature. However the curve that we are fitting is quadratic in nature.\n",
    "\n",
    "o convert the original features into their higher order terms we will use the PolynomialFeatures class provided by scikit-learn. Next, we train the model using Linear Regression."
   ]
  },
  {
   "cell_type": "code",
   "execution_count": 3,
   "metadata": {
    "colab": {
     "base_uri": "https://localhost:8080/",
     "height": 300
    },
    "id": "og1AHZKj4WwM",
    "outputId": "7df1daf0-65d4-47e5-ef94-48bf7f2045ab"
   },
   "outputs": [
    {
     "name": "stdout",
     "output_type": "stream",
     "text": [
      "10.120437473614711\n",
      "0.8537647164420812\n"
     ]
    },
    {
     "data": {
      "image/png": "[encoded data removed]",
      "text/plain": [
       "<Figure size 432x288 with 1 Axes>"
      ]
     },
     "metadata": {
      "needs_background": "light"
     },
     "output_type": "display_data"
    }
   ],
   "source": [
    "import operator\n",
    "\n",
    "import numpy as np\n",
    "import matplotlib.pyplot as plt\n",
    "\n",
    "from sklearn.linear_model import LinearRegression\n",
    "from sklearn.metrics import mean_squared_error, r2_score\n",
    "from sklearn.preprocessing import PolynomialFeatures\n",
    "\n",
    "np.random.seed(0)\n",
    "x = 2 - 3 * np.random.normal(0, 1, 20)\n",
    "y = x - 2 * (x ** 2) + 0.5 * (x ** 3) + np.random.normal(-3, 3, 20)\n",
    "\n",
    "# transforming the data to include another axis\n",
    "x = x[:, np.newaxis]\n",
    "y = y[:, np.newaxis]\n",
    "\n",
    "polynomial_features= PolynomialFeatures(degree=2)\n",
    "x_poly = polynomial_features.fit_transform(x)\n",
    "\n",
    "model = LinearRegression()\n",
    "model.fit(x_poly, y)\n",
    "y_poly_pred = model.predict(x_poly)\n",
    "\n",
    "rmse = np.sqrt(mean_squared_error(y,y_poly_pred))\n",
    "r2 = r2_score(y,y_poly_pred)\n",
    "print(rmse)\n",
    "print(r2)\n",
    "\n",
    "plt.scatter(x, y, s=10)\n",
    "# sort the values of x before line plot\n",
    "sort_axis = operator.itemgetter(0)\n",
    "sorted_zip = sorted(zip(x,y_poly_pred), key=sort_axis)\n",
    "x, y_poly_pred = zip(*sorted_zip)\n",
    "plt.plot(x, y_poly_pred, color='m')\n",
    "plt.show()"
   ]
  },
  {
   "cell_type": "code",
   "execution_count": null,
   "metadata": {
    "id": "n_y564Fh4k0G"
   },
   "outputs": [],
   "source": []
  },
  {
   "cell_type": "markdown",
   "metadata": {
    "id": "8Avp2Lta5uEW"
   },
   "source": [
    "It is quite clear from the plot that the quadratic curve is able to fit the data better than the linear line. Computing the RMSE and R²-score of the quadratic plot gives:\n",
    "\n",
    "RMSE of polynomial regression is **10.120437473614711.**\n",
    "\n",
    "\n",
    "R2 of polynomial regression is **0.8537647164420812.**"
   ]
  },
  {
   "cell_type": "markdown",
   "metadata": {
    "id": "C0Cv5pQ45-e1"
   },
   "source": [
    "Assignment:''\n",
    "Try to fit the model Using degree =3 , 4 and 20"
   ]
  },
  {
   "cell_type": "code",
   "execution_count": 4,
   "metadata": {
    "id": "IW2yPxAP5vRn"
   },
   "outputs": [
    {
     "name": "stdout",
     "output_type": "stream",
     "text": [
      "23.188985407100322\n",
      "0.23225482806073827\n"
     ]
    },
    {
     "data": {
      "image/png": "[encoded data removed]",
      "text/plain": [
       "<Figure size 432x288 with 1 Axes>"
      ]
     },
     "metadata": {
      "needs_background": "light"
     },
     "output_type": "display_data"
    }
   ],
   "source": [
    "polynomial_features= PolynomialFeatures(degree=3)\n",
    "x_poly = polynomial_features.fit_transform(x)\n",
    "\n",
    "model = LinearRegression()\n",
    "model.fit(x_poly, y)\n",
    "y_poly_pred = model.predict(x_poly)\n",
    "\n",
    "rmse = np.sqrt(mean_squared_error(y,y_poly_pred))\n",
    "r2 = r2_score(y,y_poly_pred)\n",
    "print(rmse)\n",
    "print(r2)\n",
    "\n",
    "plt.scatter(x, y, s=10)\n",
    "# sort the values of x before line plot\n",
    "sort_axis = operator.itemgetter(0)\n",
    "sorted_zip = sorted(zip(x,y_poly_pred), key=sort_axis)\n",
    "x, y_poly_pred = zip(*sorted_zip)\n",
    "plt.plot(x, y_poly_pred, color='m')\n",
    "plt.show()"
   ]
  },
  {
   "cell_type": "code",
   "execution_count": 5,
   "metadata": {},
   "outputs": [
    {
     "name": "stdout",
     "output_type": "stream",
     "text": [
      "22.87461982870539\n",
      "0.25292987536181566\n"
     ]
    },
    {
     "data": {
      "image/png": "[encoded data removed]",
      "text/plain": [
       "<Figure size 432x288 with 1 Axes>"
      ]
     },
     "metadata": {
      "needs_background": "light"
     },
     "output_type": "display_data"
    }
   ],
   "source": [
    "polynomial_features= PolynomialFeatures(degree=4)\n",
    "x_poly = polynomial_features.fit_transform(x)\n",
    "\n",
    "model = LinearRegression()\n",
    "model.fit(x_poly, y)\n",
    "y_poly_pred = model.predict(x_poly)\n",
    "\n",
    "rmse = np.sqrt(mean_squared_error(y,y_poly_pred))\n",
    "r2 = r2_score(y,y_poly_pred)\n",
    "print(rmse)\n",
    "print(r2)\n",
    "\n",
    "plt.scatter(x, y, s=10)\n",
    "# sort the values of x before line plot\n",
    "sort_axis = operator.itemgetter(0)\n",
    "sorted_zip = sorted(zip(x,y_poly_pred), key=sort_axis)\n",
    "x, y_poly_pred = zip(*sorted_zip)\n",
    "plt.plot(x, y_poly_pred, color='m')\n",
    "plt.show()"
   ]
  },
  {
   "cell_type": "code",
   "execution_count": 6,
   "metadata": {},
   "outputs": [
    {
     "name": "stdout",
     "output_type": "stream",
     "text": [
      "3.0405648488280623\n",
      "0.986800358368358\n"
     ]
    },
    {
     "data": {
      "image/png": "[encoded data removed]",
      "text/plain": [
       "<Figure size 432x288 with 1 Axes>"
      ]
     },
     "metadata": {
      "needs_background": "light"
     },
     "output_type": "display_data"
    }
   ],
   "source": [
    "polynomial_features= PolynomialFeatures(degree=20)\n",
    "x_poly = polynomial_features.fit_transform(x)\n",
    "\n",
    "model = LinearRegression()\n",
    "model.fit(x_poly, y)\n",
    "y_poly_pred = model.predict(x_poly)\n",
    "\n",
    "rmse = np.sqrt(mean_squared_error(y,y_poly_pred))\n",
    "r2 = r2_score(y,y_poly_pred)\n",
    "print(rmse)\n",
    "print(r2)\n",
    "\n",
    "plt.scatter(x, y, s=10)\n",
    "# sort the values of x before line plot\n",
    "sort_axis = operator.itemgetter(0)\n",
    "sorted_zip = sorted(zip(x,y_poly_pred), key=sort_axis)\n",
    "x, y_poly_pred = zip(*sorted_zip)\n",
    "plt.plot(x, y_poly_pred, color='m')\n",
    "plt.show()"
   ]
  },
  {
   "cell_type": "code",
   "execution_count": null,
   "metadata": {},
   "outputs": [],
   "source": []
  }
 ],
 "metadata": {
  "colab": {
   "provenance": []
  },
  "kernelspec": {
   "display_name": "Python 3 (ipykernel)",
   "language": "python",
   "name": "python3"
  },
  "language_info": {
   "codemirror_mode": {
    "name": "ipython",
    "version": 3
   },
   "file_extension": ".py",
   "mimetype": "text/x-python",
   "name": "python",
   "nbconvert_exporter": "python",
   "pygments_lexer": "ipython3",
   "version": "3.9.7"
  }
 },
 "nbformat": 4,
 "nbformat_minor": 1
}
