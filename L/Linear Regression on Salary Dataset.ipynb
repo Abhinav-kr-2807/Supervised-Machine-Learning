{
 "cells": [
  {
   "cell_type": "markdown",
   "metadata": {},
   "source": [
    "# Name: Abhinav Kumar\n"
   ]
  },
  {
   "cell_type": "markdown",
   "metadata": {},
   "source": [
    "# PRN- 21070126006"
   ]
  },
  {
   "cell_type": "markdown",
   "metadata": {},
   "source": [
    "# Branch- AIML A1"
   ]
  },
  {
   "cell_type": "code",
   "execution_count": 44,
   "metadata": {
    "executionInfo": {
     "elapsed": 1536,
     "status": "ok",
     "timestamp": 1675142445439,
     "user": {
      "displayName": "Sugam Sharma",
      "userId": "02245970631653347462"
     },
     "user_tz": -330
    },
    "id": "M-3zeR2cNDP8"
   },
   "outputs": [],
   "source": [
    "# Importing the required libraries\n",
    "import pandas as pd\n",
    "import numpy as np\n",
    "import matplotlib.pyplot as plt\n",
    "import seaborn as sns\n",
    "import warnings\n",
    "warnings.filterwarnings('ignore')"
   ]
  },
  {
   "cell_type": "code",
   "execution_count": 26,
   "metadata": {
    "executionInfo": {
     "elapsed": 8,
     "status": "ok",
     "timestamp": 1675142445439,
     "user": {
      "displayName": "Sugam Sharma",
      "userId": "02245970631653347462"
     },
     "user_tz": -330
    },
    "id": "L378reO1PaaD"
   },
   "outputs": [],
   "source": [
    "# Setting the theme for all the graphs using seaborn\n",
    "sns.set_theme(style='ticks')"
   ]
  },
  {
   "cell_type": "markdown",
   "metadata": {
    "id": "B-YBzU1oXCFa"
   },
   "source": [
    "### Q1) Predict salary of an employee based on years of experience."
   ]
  },
  {
   "cell_type": "code",
   "execution_count": 43,
   "metadata": {
    "executionInfo": {
     "elapsed": 1748,
     "status": "ok",
     "timestamp": 1675142447180,
     "user": {
      "displayName": "Sugam Sharma",
      "userId": "02245970631653347462"
     },
     "user_tz": -330
    },
    "id": "owBmQfTsNiN2"
   },
   "outputs": [],
   "source": [
    "# Reading the csv file\n",
    "df_exp = pd.read_csv(\"Salary_Data.csv\")"
   ]
  },
  {
   "cell_type": "code",
   "execution_count": 28,
   "metadata": {
    "colab": {
     "base_uri": "https://localhost:8080/",
     "height": 206
    },
    "executionInfo": {
     "elapsed": 52,
     "status": "ok",
     "timestamp": 1675142447181,
     "user": {
      "displayName": "Sugam Sharma",
      "userId": "02245970631653347462"
     },
     "user_tz": -330
    },
    "id": "C9C6vgh0Nqu8",
    "outputId": "3c8c8f84-7ddf-40c4-a5e8-5db9c87dd048"
   },
   "outputs": [
    {
     "data": {
      "text/html": [
       "<div>\n",
       "<style scoped>\n",
       "    .dataframe tbody tr th:only-of-type {\n",
       "        vertical-align: middle;\n",
       "    }\n",
       "\n",
       "    .dataframe tbody tr th {\n",
       "        vertical-align: top;\n",
       "    }\n",
       "\n",
       "    .dataframe thead th {\n",
       "        text-align: right;\n",
       "    }\n",
       "</style>\n",
       "<table border=\"1\" class=\"dataframe\">\n",
       "  <thead>\n",
       "    <tr style=\"text-align: right;\">\n",
       "      <th></th>\n",
       "      <th>YearsExperience</th>\n",
       "      <th>Salary</th>\n",
       "    </tr>\n",
       "  </thead>\n",
       "  <tbody>\n",
       "    <tr>\n",
       "      <th>0</th>\n",
       "      <td>1.1</td>\n",
       "      <td>39343.0</td>\n",
       "    </tr>\n",
       "    <tr>\n",
       "      <th>1</th>\n",
       "      <td>1.3</td>\n",
       "      <td>46205.0</td>\n",
       "    </tr>\n",
       "    <tr>\n",
       "      <th>2</th>\n",
       "      <td>1.5</td>\n",
       "      <td>37731.0</td>\n",
       "    </tr>\n",
       "    <tr>\n",
       "      <th>3</th>\n",
       "      <td>2.0</td>\n",
       "      <td>43525.0</td>\n",
       "    </tr>\n",
       "    <tr>\n",
       "      <th>4</th>\n",
       "      <td>2.2</td>\n",
       "      <td>39891.0</td>\n",
       "    </tr>\n",
       "  </tbody>\n",
       "</table>\n",
       "</div>"
      ],
      "text/plain": [
       "   YearsExperience   Salary\n",
       "0              1.1  39343.0\n",
       "1              1.3  46205.0\n",
       "2              1.5  37731.0\n",
       "3              2.0  43525.0\n",
       "4              2.2  39891.0"
      ]
     },
     "execution_count": 28,
     "metadata": {},
     "output_type": "execute_result"
    }
   ],
   "source": [
    "df_exp.head()"
   ]
  },
  {
   "cell_type": "code",
   "execution_count": 34,
   "metadata": {
    "colab": {
     "base_uri": "https://localhost:8080/"
    },
    "executionInfo": {
     "elapsed": 50,
     "status": "ok",
     "timestamp": 1675142447182,
     "user": {
      "displayName": "Sugam Sharma",
      "userId": "02245970631653347462"
     },
     "user_tz": -330
    },
    "id": "4nE57iBaQxxE",
    "outputId": "e6e7b184-d983-414b-c0e5-971e3c1bcf52"
   },
   "outputs": [
    {
     "name": "stdout",
     "output_type": "stream",
     "text": [
      "<class 'pandas.core.frame.DataFrame'>\n",
      "RangeIndex: 30 entries, 0 to 29\n",
      "Data columns (total 2 columns):\n",
      " #   Column           Non-Null Count  Dtype  \n",
      "---  ------           --------------  -----  \n",
      " 0   YearsExperience  30 non-null     float64\n",
      " 1   Salary           30 non-null     float64\n",
      "dtypes: float64(2)\n",
      "memory usage: 608.0 bytes\n"
     ]
    }
   ],
   "source": [
    "# info()- it tells the datatype and null value count in the dataframe\n",
    "df_exp.info()"
   ]
  },
  {
   "cell_type": "code",
   "execution_count": 32,
   "metadata": {
    "colab": {
     "base_uri": "https://localhost:8080/"
    },
    "executionInfo": {
     "elapsed": 46,
     "status": "ok",
     "timestamp": 1675142447183,
     "user": {
      "displayName": "Sugam Sharma",
      "userId": "02245970631653347462"
     },
     "user_tz": -330
    },
    "id": "nV1jardNOFjT",
    "outputId": "9524b54f-dc97-44be-97f1-3c7e03c6c3c9"
   },
   "outputs": [
    {
     "data": {
      "text/plain": [
       "(30, 2)"
      ]
     },
     "execution_count": 32,
     "metadata": {},
     "output_type": "execute_result"
    }
   ],
   "source": [
    "df_exp.shape"
   ]
  },
  {
   "cell_type": "code",
   "execution_count": 33,
   "metadata": {
    "colab": {
     "base_uri": "https://localhost:8080/",
     "height": 300
    },
    "executionInfo": {
     "elapsed": 43,
     "status": "ok",
     "timestamp": 1675142447184,
     "user": {
      "displayName": "Sugam Sharma",
      "userId": "02245970631653347462"
     },
     "user_tz": -330
    },
    "id": "vZ-CW5dEOFgj",
    "outputId": "9f42fc7c-2a3c-4bf0-de3f-905e0444bb27"
   },
   "outputs": [
    {
     "data": {
      "text/html": [
       "<div>\n",
       "<style scoped>\n",
       "    .dataframe tbody tr th:only-of-type {\n",
       "        vertical-align: middle;\n",
       "    }\n",
       "\n",
       "    .dataframe tbody tr th {\n",
       "        vertical-align: top;\n",
       "    }\n",
       "\n",
       "    .dataframe thead th {\n",
       "        text-align: right;\n",
       "    }\n",
       "</style>\n",
       "<table border=\"1\" class=\"dataframe\">\n",
       "  <thead>\n",
       "    <tr style=\"text-align: right;\">\n",
       "      <th></th>\n",
       "      <th>YearsExperience</th>\n",
       "      <th>Salary</th>\n",
       "    </tr>\n",
       "  </thead>\n",
       "  <tbody>\n",
       "    <tr>\n",
       "      <th>count</th>\n",
       "      <td>30.000000</td>\n",
       "      <td>30.000000</td>\n",
       "    </tr>\n",
       "    <tr>\n",
       "      <th>mean</th>\n",
       "      <td>5.313333</td>\n",
       "      <td>76003.000000</td>\n",
       "    </tr>\n",
       "    <tr>\n",
       "      <th>std</th>\n",
       "      <td>2.837888</td>\n",
       "      <td>27414.429785</td>\n",
       "    </tr>\n",
       "    <tr>\n",
       "      <th>min</th>\n",
       "      <td>1.100000</td>\n",
       "      <td>37731.000000</td>\n",
       "    </tr>\n",
       "    <tr>\n",
       "      <th>25%</th>\n",
       "      <td>3.200000</td>\n",
       "      <td>56720.750000</td>\n",
       "    </tr>\n",
       "    <tr>\n",
       "      <th>50%</th>\n",
       "      <td>4.700000</td>\n",
       "      <td>65237.000000</td>\n",
       "    </tr>\n",
       "    <tr>\n",
       "      <th>75%</th>\n",
       "      <td>7.700000</td>\n",
       "      <td>100544.750000</td>\n",
       "    </tr>\n",
       "    <tr>\n",
       "      <th>max</th>\n",
       "      <td>10.500000</td>\n",
       "      <td>122391.000000</td>\n",
       "    </tr>\n",
       "  </tbody>\n",
       "</table>\n",
       "</div>"
      ],
      "text/plain": [
       "       YearsExperience         Salary\n",
       "count        30.000000      30.000000\n",
       "mean          5.313333   76003.000000\n",
       "std           2.837888   27414.429785\n",
       "min           1.100000   37731.000000\n",
       "25%           3.200000   56720.750000\n",
       "50%           4.700000   65237.000000\n",
       "75%           7.700000  100544.750000\n",
       "max          10.500000  122391.000000"
      ]
     },
     "execution_count": 33,
     "metadata": {},
     "output_type": "execute_result"
    }
   ],
   "source": [
    "df_exp.describe()"
   ]
  },
  {
   "cell_type": "code",
   "execution_count": 36,
   "metadata": {
    "colab": {
     "base_uri": "https://localhost:8080/"
    },
    "executionInfo": {
     "elapsed": 42,
     "status": "ok",
     "timestamp": 1675142447185,
     "user": {
      "displayName": "Sugam Sharma",
      "userId": "02245970631653347462"
     },
     "user_tz": -330
    },
    "id": "UWK86bjCOFZW",
    "outputId": "6644ce1f-4a04-4228-e4d2-2b52f98e190a"
   },
   "outputs": [
    {
     "data": {
      "text/plain": [
       "YearsExperience    0\n",
       "Salary             0\n",
       "dtype: int64"
      ]
     },
     "execution_count": 36,
     "metadata": {},
     "output_type": "execute_result"
    }
   ],
   "source": [
    "# Checking the number of null values in the dataframe\n",
    "df_exp.isna().sum(axis=0)"
   ]
  },
  {
   "cell_type": "code",
   "execution_count": 55,
   "metadata": {
    "colab": {
     "base_uri": "https://localhost:8080/",
     "height": 357
    },
    "executionInfo": {
     "elapsed": 39,
     "status": "ok",
     "timestamp": 1675142447185,
     "user": {
      "displayName": "Sugam Sharma",
      "userId": "02245970631653347462"
     },
     "user_tz": -330
    },
    "id": "XiWRt0AUNvWo",
    "outputId": "5afd10fe-9649-4ed4-e095-7255dee2f315"
   },
   "outputs": [
    {
     "data": {
      "image/png": "[encoded data removed]",
      "text/plain": [
       "<Figure size 648x360 with 1 Axes>"
      ]
     },
     "metadata": {},
     "output_type": "display_data"
    }
   ],
   "source": [
    "# Plotting the graph between two columns which are 'YearsExperience' and 'Salary'.\n",
    "plt.figure(figsize=(9,5))\n",
    "sns.scatterplot(x = 'YearsExperience', y= 'Salary',data = df_exp,palette='vlag')\n",
    "plt.title(\"Years of Experience vs Salary\", fontsize=15)\n",
    "sns.despine(left=True,bottom=True)"
   ]
  },
  {
   "cell_type": "code",
   "execution_count": 56,
   "metadata": {
    "colab": {
     "base_uri": "https://localhost:8080/",
     "height": 303
    },
    "executionInfo": {
     "elapsed": 7,
     "status": "ok",
     "timestamp": 1675142481974,
     "user": {
      "displayName": "Sugam Sharma",
      "userId": "02245970631653347462"
     },
     "user_tz": -330
    },
    "id": "wGPV3UMvRQp0",
    "outputId": "9ab90e52-8901-4667-db32-3648f9e46ddc"
   },
   "outputs": [
    {
     "data": {
      "text/plain": [
       "<AxesSubplot:xlabel='Salary'>"
      ]
     },
     "execution_count": 56,
     "metadata": {},
     "output_type": "execute_result"
    },
    {
     "data": {
      "image/png": "[encoded data removed]",
      "text/plain": [
       "<Figure size 432x288 with 1 Axes>"
      ]
     },
     "metadata": {},
     "output_type": "display_data"
    }
   ],
   "source": [
    "# This boxplot tells us that the majority salary given is between 55k to 100k\n",
    "sns.boxplot(df_experience['Salary'])"
   ]
  },
  {
   "cell_type": "code",
   "execution_count": 45,
   "metadata": {
    "executionInfo": {
     "elapsed": 3,
     "status": "ok",
     "timestamp": 1675142490649,
     "user": {
      "displayName": "Sugam Sharma",
      "userId": "02245970631653347462"
     },
     "user_tz": -330
    },
    "id": "p9eycsaoQDbv"
   },
   "outputs": [],
   "source": [
    "# Preparing and fitting the model\n",
    "from sklearn.linear_model import LinearRegression\n",
    "from sklearn.preprocessing import StandardScaler\n",
    "from sklearn.model_selection import train_test_split\n",
    "from sklearn.metrics import r2_score, mean_squared_error"
   ]
  },
  {
   "cell_type": "code",
   "execution_count": 57,
   "metadata": {
    "executionInfo": {
     "elapsed": 9,
     "status": "ok",
     "timestamp": 1675142495768,
     "user": {
      "displayName": "Sugam Sharma",
      "userId": "02245970631653347462"
     },
     "user_tz": -330
    },
    "id": "FxljwWoJSAfN"
   },
   "outputs": [],
   "source": [
    "# Setting the columns to X and y for training and testing\n",
    "X = df_exp[['YearsExperience']]\n",
    "y = df_exp[['Salary']]"
   ]
  },
  {
   "cell_type": "code",
   "execution_count": 47,
   "metadata": {
    "executionInfo": {
     "elapsed": 1537,
     "status": "ok",
     "timestamp": 1675142497299,
     "user": {
      "displayName": "Sugam Sharma",
      "userId": "02245970631653347462"
     },
     "user_tz": -330
    },
    "id": "cTTemFLRR4vg"
   },
   "outputs": [],
   "source": [
    "# Splitting the dataset for training and testing using train_test_split method\n",
    "X_train,X_test,y_train,y_test = train_test_split(X,y,random_state=0)"
   ]
  },
  {
   "cell_type": "code",
   "execution_count": 54,
   "metadata": {
    "colab": {
     "base_uri": "https://localhost:8080/",
     "height": 480
    },
    "executionInfo": {
     "elapsed": 66,
     "status": "ok",
     "timestamp": 1675142497300,
     "user": {
      "displayName": "Sugam Sharma",
      "userId": "02245970631653347462"
     },
     "user_tz": -330
    },
    "id": "Rwj1bV0PSLaD",
    "outputId": "80388fde-e1ba-4bcc-81f2-aa2b7899997b"
   },
   "outputs": [
    {
     "name": "stdout",
     "output_type": "stream",
     "text": [
      "The training score is : 0.9395413526983522\n",
      "The testing score is : 0.9779208335417602\n",
      "The R2 score is :0.9779208335417602\n",
      "The RMSE value is 4733.70258289858\n",
      "[[83264.95426841]]\n",
      "[[64505.53328452]\n",
      " [47622.05439902]]\n"
     ]
    },
    {
     "data": {
      "image/png": "[encoded data removed]",
      "text/plain": [
       "<Figure size 648x360 with 1 Axes>"
      ]
     },
     "metadata": {},
     "output_type": "display_data"
    }
   ],
   "source": [
    "def linear_regression():\n",
    "  lr = LinearRegression() # Instanciating the module\n",
    "  lr.fit(X_train,y_train) # Fitting the data\n",
    "\n",
    "  predicted_values = lr.predict(X_test) # Predicting the data\n",
    "  print(f\"The training score is : {lr.score(X_train,y_train)}\")\n",
    "  print(f\"The testing score is : {lr.score(X_test,y_test)}\")\n",
    "  score = r2_score(y_test,predicted_values)\n",
    "  rmse = mean_squared_error(y_test,predicted_values,squared=False)\n",
    "\n",
    "  print(f\"The R2 score is :{score}\")\n",
    "  print(f\"The RMSE value is {rmse}\")\n",
    "  \n",
    "# Plotting the model\n",
    "  plt.figure(figsize=(9,5))\n",
    "  x = np.linspace(0,11,100)\n",
    "  f_x = (lr.coef_ * x + lr.intercept_).ravel()\n",
    "  sns.lineplot(x = x,y = f_x,color='grey');\n",
    "  sns.scatterplot(x = X['YearsExperience'],y = y['Salary'])# Using scatter plot to show the salary based on years of experience\n",
    "  plt.title(\"Salary vs experience with model\")\n",
    "\n",
    "  # Predicting the salary based on the experience\n",
    "  print(lr.predict([[6]]))\n",
    "\n",
    "  print(lr.predict([[4],\n",
    "               [2.2]]))\n",
    "  \n",
    "linear_regression()\n",
    "\n",
    "  \n",
    "\n",
    " "
   ]
  },
  {
   "cell_type": "markdown",
   "metadata": {
    "id": "hD0GZBEbXRjz"
   },
   "source": [
    "### Q2) Predict salary based on below data - position_salaries.csv."
   ]
  },
  {
   "cell_type": "code",
   "execution_count": 58,
   "metadata": {
    "executionInfo": {
     "elapsed": 57,
     "status": "ok",
     "timestamp": 1675142497301,
     "user": {
      "displayName": "Sugam Sharma",
      "userId": "02245970631653347462"
     },
     "user_tz": -330
    },
    "id": "u6VEkocgW6-Z"
   },
   "outputs": [],
   "source": [
    "df_position = pd.read_csv('Position_Salaries.csv')"
   ]
  },
  {
   "cell_type": "code",
   "execution_count": 59,
   "metadata": {
    "colab": {
     "base_uri": "https://localhost:8080/",
     "height": 206
    },
    "executionInfo": {
     "elapsed": 55,
     "status": "ok",
     "timestamp": 1675142497301,
     "user": {
      "displayName": "Sugam Sharma",
      "userId": "02245970631653347462"
     },
     "user_tz": -330
    },
    "id": "Wtjk7HajXTvw",
    "outputId": "964be2c4-c82b-4624-be83-f2e2b02ed578"
   },
   "outputs": [
    {
     "data": {
      "text/html": [
       "<div>\n",
       "<style scoped>\n",
       "    .dataframe tbody tr th:only-of-type {\n",
       "        vertical-align: middle;\n",
       "    }\n",
       "\n",
       "    .dataframe tbody tr th {\n",
       "        vertical-align: top;\n",
       "    }\n",
       "\n",
       "    .dataframe thead th {\n",
       "        text-align: right;\n",
       "    }\n",
       "</style>\n",
       "<table border=\"1\" class=\"dataframe\">\n",
       "  <thead>\n",
       "    <tr style=\"text-align: right;\">\n",
       "      <th></th>\n",
       "      <th>Position</th>\n",
       "      <th>Level</th>\n",
       "      <th>Salary</th>\n",
       "    </tr>\n",
       "  </thead>\n",
       "  <tbody>\n",
       "    <tr>\n",
       "      <th>0</th>\n",
       "      <td>Business Analyst</td>\n",
       "      <td>1</td>\n",
       "      <td>45000</td>\n",
       "    </tr>\n",
       "    <tr>\n",
       "      <th>1</th>\n",
       "      <td>Junior Consultant</td>\n",
       "      <td>2</td>\n",
       "      <td>50000</td>\n",
       "    </tr>\n",
       "    <tr>\n",
       "      <th>2</th>\n",
       "      <td>Senior Consultant</td>\n",
       "      <td>3</td>\n",
       "      <td>60000</td>\n",
       "    </tr>\n",
       "    <tr>\n",
       "      <th>3</th>\n",
       "      <td>Manager</td>\n",
       "      <td>4</td>\n",
       "      <td>80000</td>\n",
       "    </tr>\n",
       "    <tr>\n",
       "      <th>4</th>\n",
       "      <td>Country Manager</td>\n",
       "      <td>5</td>\n",
       "      <td>110000</td>\n",
       "    </tr>\n",
       "  </tbody>\n",
       "</table>\n",
       "</div>"
      ],
      "text/plain": [
       "            Position  Level  Salary\n",
       "0   Business Analyst      1   45000\n",
       "1  Junior Consultant      2   50000\n",
       "2  Senior Consultant      3   60000\n",
       "3            Manager      4   80000\n",
       "4    Country Manager      5  110000"
      ]
     },
     "execution_count": 59,
     "metadata": {},
     "output_type": "execute_result"
    }
   ],
   "source": [
    "df_position.head()"
   ]
  },
  {
   "cell_type": "code",
   "execution_count": 60,
   "metadata": {
    "colab": {
     "base_uri": "https://localhost:8080/"
    },
    "executionInfo": {
     "elapsed": 52,
     "status": "ok",
     "timestamp": 1675142497302,
     "user": {
      "displayName": "Sugam Sharma",
      "userId": "02245970631653347462"
     },
     "user_tz": -330
    },
    "id": "6HCrhHe7Xkal",
    "outputId": "933fc942-9568-4201-bac3-e7fdd4838535"
   },
   "outputs": [
    {
     "name": "stdout",
     "output_type": "stream",
     "text": [
      "<class 'pandas.core.frame.DataFrame'>\n",
      "RangeIndex: 10 entries, 0 to 9\n",
      "Data columns (total 3 columns):\n",
      " #   Column    Non-Null Count  Dtype \n",
      "---  ------    --------------  ----- \n",
      " 0   Position  10 non-null     object\n",
      " 1   Level     10 non-null     int64 \n",
      " 2   Salary    10 non-null     int64 \n",
      "dtypes: int64(2), object(1)\n",
      "memory usage: 368.0+ bytes\n"
     ]
    }
   ],
   "source": [
    "df_position.info()"
   ]
  },
  {
   "cell_type": "code",
   "execution_count": 61,
   "metadata": {
    "colab": {
     "base_uri": "https://localhost:8080/",
     "height": 300
    },
    "executionInfo": {
     "elapsed": 49,
     "status": "ok",
     "timestamp": 1675142497303,
     "user": {
      "displayName": "Sugam Sharma",
      "userId": "02245970631653347462"
     },
     "user_tz": -330
    },
    "id": "bweHMXNkXl0p",
    "outputId": "a63ed4e6-0016-4dd3-89a0-e8164ec569b9"
   },
   "outputs": [
    {
     "data": {
      "text/html": [
       "<div>\n",
       "<style scoped>\n",
       "    .dataframe tbody tr th:only-of-type {\n",
       "        vertical-align: middle;\n",
       "    }\n",
       "\n",
       "    .dataframe tbody tr th {\n",
       "        vertical-align: top;\n",
       "    }\n",
       "\n",
       "    .dataframe thead th {\n",
       "        text-align: right;\n",
       "    }\n",
       "</style>\n",
       "<table border=\"1\" class=\"dataframe\">\n",
       "  <thead>\n",
       "    <tr style=\"text-align: right;\">\n",
       "      <th></th>\n",
       "      <th>Level</th>\n",
       "      <th>Salary</th>\n",
       "    </tr>\n",
       "  </thead>\n",
       "  <tbody>\n",
       "    <tr>\n",
       "      <th>count</th>\n",
       "      <td>10.00000</td>\n",
       "      <td>10.000000</td>\n",
       "    </tr>\n",
       "    <tr>\n",
       "      <th>mean</th>\n",
       "      <td>5.50000</td>\n",
       "      <td>249500.000000</td>\n",
       "    </tr>\n",
       "    <tr>\n",
       "      <th>std</th>\n",
       "      <td>3.02765</td>\n",
       "      <td>299373.883668</td>\n",
       "    </tr>\n",
       "    <tr>\n",
       "      <th>min</th>\n",
       "      <td>1.00000</td>\n",
       "      <td>45000.000000</td>\n",
       "    </tr>\n",
       "    <tr>\n",
       "      <th>25%</th>\n",
       "      <td>3.25000</td>\n",
       "      <td>65000.000000</td>\n",
       "    </tr>\n",
       "    <tr>\n",
       "      <th>50%</th>\n",
       "      <td>5.50000</td>\n",
       "      <td>130000.000000</td>\n",
       "    </tr>\n",
       "    <tr>\n",
       "      <th>75%</th>\n",
       "      <td>7.75000</td>\n",
       "      <td>275000.000000</td>\n",
       "    </tr>\n",
       "    <tr>\n",
       "      <th>max</th>\n",
       "      <td>10.00000</td>\n",
       "      <td>1000000.000000</td>\n",
       "    </tr>\n",
       "  </tbody>\n",
       "</table>\n",
       "</div>"
      ],
      "text/plain": [
       "          Level          Salary\n",
       "count  10.00000       10.000000\n",
       "mean    5.50000   249500.000000\n",
       "std     3.02765   299373.883668\n",
       "min     1.00000    45000.000000\n",
       "25%     3.25000    65000.000000\n",
       "50%     5.50000   130000.000000\n",
       "75%     7.75000   275000.000000\n",
       "max    10.00000  1000000.000000"
      ]
     },
     "execution_count": 61,
     "metadata": {},
     "output_type": "execute_result"
    }
   ],
   "source": [
    "df_position.describe()"
   ]
  },
  {
   "cell_type": "code",
   "execution_count": 62,
   "metadata": {
    "colab": {
     "base_uri": "https://localhost:8080/",
     "height": 296
    },
    "executionInfo": {
     "elapsed": 47,
     "status": "ok",
     "timestamp": 1675142497304,
     "user": {
      "displayName": "Sugam Sharma",
      "userId": "02245970631653347462"
     },
     "user_tz": -330
    },
    "id": "IlutAb9lXnQR",
    "outputId": "2d2c5618-6745-4626-e62c-42c4e3347694"
   },
   "outputs": [
    {
     "data": {
      "image/png": "[encoded data removed]",
      "text/plain": [
       "<Figure size 432x288 with 1 Axes>"
      ]
     },
     "metadata": {},
     "output_type": "display_data"
    }
   ],
   "source": [
    "# This bar plot shows how the salary is increasing wrt the level of position.\n",
    "sns.barplot(x='Level',y='Salary',data=df_position,palette='vlag')\n",
    "sns.despine(left=True, bottom=True)"
   ]
  },
  {
   "cell_type": "code",
   "execution_count": 65,
   "metadata": {
    "executionInfo": {
     "elapsed": 46,
     "status": "ok",
     "timestamp": 1675142497305,
     "user": {
      "displayName": "Sugam Sharma",
      "userId": "02245970631653347462"
     },
     "user_tz": -330
    },
    "id": "tirC3W6YYnia"
   },
   "outputs": [],
   "source": [
    "# Seperating the features and target variables\n",
    "X = df_position[['Level']]\n",
    "y = df_position[['Salary']]"
   ]
  },
  {
   "cell_type": "code",
   "execution_count": 66,
   "metadata": {
    "executionInfo": {
     "elapsed": 46,
     "status": "ok",
     "timestamp": 1675142497306,
     "user": {
      "displayName": "Sugam Sharma",
      "userId": "02245970631653347462"
     },
     "user_tz": -330
    },
    "id": "staKeRy8Yyhb"
   },
   "outputs": [],
   "source": [
    "# Splitting the dataset for training and testing using train_test_split method\n",
    "X_train,X_test,y_train,y_test = train_test_split(X,y,random_state=0)"
   ]
  },
  {
   "cell_type": "code",
   "execution_count": 72,
   "metadata": {
    "colab": {
     "base_uri": "https://localhost:8080/",
     "height": 426
    },
    "executionInfo": {
     "elapsed": 46,
     "status": "ok",
     "timestamp": 1675142497307,
     "user": {
      "displayName": "Sugam Sharma",
      "userId": "02245970631653347462"
     },
     "user_tz": -330
    },
    "id": "YGZtNIbHX4KD",
    "outputId": "64cacc3b-f93c-4b5e-9375-a23274ab6991"
   },
   "outputs": [
    {
     "name": "stdout",
     "output_type": "stream",
     "text": [
      "The training score is : 0.6310028824447103\n",
      "The testing score is : 0.8588877328994488\n",
      "The R2 score is :0.8588877328994488\n",
      "The RMSE value is 73888.27256549199\n",
      "[[142825.11210762]]\n"
     ]
    },
    {
     "data": {
      "image/png": "[encoded data removed]",
      "text/plain": [
       "<Figure size 648x360 with 1 Axes>"
      ]
     },
     "metadata": {},
     "output_type": "display_data"
    }
   ],
   "source": [
    "def linearRegression():\n",
    "  lr = LinearRegression().fit(X_train,y_train)\n",
    "\n",
    "  print(f\"The training score is : {lr.score(X_train,y_train)}\")\n",
    "  print(f\"The testing score is : {lr.score(X_test,y_test)}\")\n",
    "\n",
    "  predicted_values = lr.predict(X_test)\n",
    "\n",
    "  score = r2_score(y_test,predicted_values)\n",
    "  rmse = mean_squared_error(y_test,predicted_values,squared=False)\n",
    "  print(f\"The R2 score is :{score}\")\n",
    "  print(f\"The RMSE value is {rmse}\")\n",
    "\n",
    "  # Plotting the model\n",
    "  plt.figure(figsize=(9,5))\n",
    "  x = np.linspace(0,11,100)\n",
    "  f_x = (lr.coef_ * x + lr.intercept_).ravel()\n",
    "  sns.lineplot(x = x,y = f_x,color='grey');\n",
    "  sns.scatterplot(x = X['Level'],y = y['Salary'])\n",
    "  plt.title(\"Level vs experience with model\")\n",
    "  \n",
    "  # Predicting the salary based on position level\n",
    "  print(lr.predict([[4]]))\n",
    "\n",
    "linearRegression()"
   ]
  },
  {
   "cell_type": "code",
   "execution_count": null,
   "metadata": {
    "executionInfo": {
     "elapsed": 36,
     "status": "ok",
     "timestamp": 1675142497308,
     "user": {
      "displayName": "Sugam Sharma",
      "userId": "02245970631653347462"
     },
     "user_tz": -330
    },
    "id": "7QDTpom5fcd6"
   },
   "outputs": [],
   "source": []
  }
 ],
 "metadata": {
  "colab": {
   "authorship_tag": "ABX9TyMugmgiRUVnFQXDLnwlgsLN",
   "provenance": []
  },
  "kernelspec": {
   "display_name": "Python 3 (ipykernel)",
   "language": "python",
   "name": "python3"
  },
  "language_info": {
   "codemirror_mode": {
    "name": "ipython",
    "version": 3
   },
   "file_extension": ".py",
   "mimetype": "text/x-python",
   "name": "python",
   "nbconvert_exporter": "python",
   "pygments_lexer": "ipython3",
   "version": "3.9.7"
  }
 },
 "nbformat": 4,
 "nbformat_minor": 1
}
